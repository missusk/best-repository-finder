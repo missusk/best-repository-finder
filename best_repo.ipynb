{
  "nbformat": 4,
  "nbformat_minor": 0,
  "metadata": {
    "colab": {
      "provenance": [],
      "authorship_tag": "ABX9TyMh4j+nbtr0+W85mkmqz71X",
      "include_colab_link": true
    },
    "kernelspec": {
      "name": "python3",
      "display_name": "Python 3"
    },
    "language_info": {
      "name": "python"
    }
  },
  "cells": [
    {
      "cell_type": "markdown",
      "metadata": {
        "id": "view-in-github",
        "colab_type": "text"
      },
      "source": [
        "<a href=\"https://colab.research.google.com/github/missusk/best-repository-finder/blob/main/best_repo.ipynb\" target=\"_parent\"><img src=\"https://colab.research.google.com/assets/colab-badge.svg\" alt=\"Open In Colab\"/></a>"
      ]
    },
    {
      "cell_type": "code",
      "source": [
        "import requests\n",
        "\n",
        "username = 'missusk'  # Replace with the GitHub username\n",
        "url = f'https://api.github.com/users/{username}/repos'\n",
        "response = requests.get(url)\n",
        "\n",
        "if response.status_code == 200:\n",
        "    repositories = response.json()\n",
        "    own_repository_urls = [repo['html_url'] for repo in repositories if not repo['fork']]\n",
        "    # Process the list of own repository URLs\n",
        "else:\n",
        "    print('Error:', response.status_code)\n"
      ],
      "metadata": {
        "id": "0dz8rTdN8rUu"
      },
      "execution_count": 110,
      "outputs": []
    },
    {
      "cell_type": "code",
      "source": [
        "print(own_repository_urls)"
      ],
      "metadata": {
        "colab": {
          "base_uri": "https://localhost:8080/"
        },
        "id": "UONzj_4o9Ljt",
        "outputId": "dfa0982c-4c61-4774-d23b-1061a6cfd3ad"
      },
      "execution_count": 107,
      "outputs": [
        {
          "output_type": "stream",
          "name": "stdout",
          "text": [
            "['https://github.com/missusk/best-repository-finder', 'https://github.com/missusk/expressions', 'https://github.com/missusk/missusk.github.io', 'https://github.com/missusk/steghelp', 'https://github.com/missusk/the-mazing-game', 'https://github.com/missusk/WTWproject']\n"
          ]
        }
      ]
    },
    {
      "cell_type": "code",
      "source": [
        "urls =  []\n",
        "if response.status_code == 200:\n",
        "    repositories = response.json()\n",
        "    for repo in repositories:\n",
        "        if not repo['fork']:\n",
        "            repo_url = repo['html_url']\n",
        "            contents_url = repo['contents_url'].replace('{+path}', '')\n",
        "            contents_response = requests.get(contents_url)\n",
        "\n",
        "            if contents_response.status_code == 200:\n",
        "                contents = contents_response.json()\n",
        "                largest_code_file_size = 0\n",
        "                largest_code_file_url = ''\n",
        "\n",
        "                for item in contents:\n",
        "                    if item['type'] == 'file' and not item['name'].lower().startswith('readme') and not item['name'].lower().endswith(('.png', '.jpg', '.jpeg', '.gif', '.wav', '.mp3')):\n",
        "                        if item['size'] > largest_code_file_size:\n",
        "                            largest_code_file_size = item['size']\n",
        "                            largest_code_file_url = item['html_url'] # Select the largest file in the repository\n",
        "                            urls.append(largest_code_file_url)\n",
        "else:\n",
        "    print('Error:', response.status_code)\n"
      ],
      "metadata": {
        "id": "1KSnaVs0AQJ1"
      },
      "execution_count": 130,
      "outputs": []
    },
    {
      "cell_type": "code",
      "source": [
        "for i, url in enumerate(urls):\n",
        "    urls[i] = urls[i].replace('/blob', '')\n",
        "    urls[i] = urls[i].replace('github.com', 'raw.githubusercontent.com')"
      ],
      "metadata": {
        "id": "cH59ZVCWl4ib"
      },
      "execution_count": 140,
      "outputs": []
    },
    {
      "cell_type": "code",
      "source": [
        "print(urls)"
      ],
      "metadata": {
        "colab": {
          "base_uri": "https://localhost:8080/"
        },
        "id": "mGqdCTSanOUP",
        "outputId": "3f02dbb5-df76-4d7a-aa27-5d616eb855ef"
      },
      "execution_count": 141,
      "outputs": [
        {
          "output_type": "stream",
          "name": "stdout",
          "text": [
            "['https://raw.githubusercontent.com/missusk/the-mazing-game/master/ScaryMaze.class', 'https://raw.githubusercontent.com/missusk/expressions/master/Expression_Recognition_Training.ipynb', 'https://raw.githubusercontent.com/missusk/missusk.github.io/main/CNAME', 'https://raw.githubusercontent.com/missusk/missusk.github.io/main/index.html', 'https://raw.githubusercontent.com/missusk/missusk.github.io/main/particles.js', 'https://raw.githubusercontent.com/missusk/missusk.github.io/main/particles.min.js', 'https://raw.githubusercontent.com/missusk/steghelp/main/source.py', 'https://raw.githubusercontent.com/missusk/the-mazing-game/master/ScaryMaze.class']\n"
          ]
        }
      ]
    },
    {
      "cell_type": "code",
      "source": [
        "def extract_code_from_ipynb(file_path):\n",
        "    with open(file_path, 'r') as f:\n",
        "        notebook = nbformat.read(f, nbformat.NO_CONVERT)\n",
        "\n",
        "    code_cells = []\n",
        "    for cell in notebook.cells:\n",
        "        if cell.cell_type == 'code':\n",
        "            code_cells.append(cell.source)\n",
        "\n",
        "    return code_cells"
      ],
      "metadata": {
        "id": "8syKmGK2eLG7"
      },
      "execution_count": 85,
      "outputs": []
    },
    {
      "cell_type": "code",
      "source": [
        "import requests\n",
        "import nbformat\n",
        "file_url = 'https://raw.githubusercontent.com/missusk/best-repository-finder/main/best_repo.ipynb'\n",
        "response = requests.get(file_url)\n",
        "\n",
        "response = requests.get(file_url)\n",
        "\n",
        "if response.status_code == 200:\n",
        "\n",
        "    file_content = response.text\n",
        "    if file_url[-5::] == 'ipynb':\n",
        "        file = open(\"filenew.ipynb\", \"w\")\n",
        "        a = file.write(file_content)\n",
        "        file.close()\n",
        "        file_content = extract_code_from_ipynb('filenew.ipynb')\n",
        "    # Process the file content as needed\n",
        "else:\n",
        "    print('Error:', response.status_code)"
      ],
      "metadata": {
        "id": "OKy_t9WFYl7U"
      },
      "execution_count": 103,
      "outputs": []
    },
    {
      "cell_type": "code",
      "source": [
        "print(file_content)"
      ],
      "metadata": {
        "colab": {
          "base_uri": "https://localhost:8080/"
        },
        "id": "Pv25UvCmVao6",
        "outputId": "09fadfdc-2739-4760-9ce1-e3e2d9a4c749"
      },
      "execution_count": 101,
      "outputs": [
        {
          "output_type": "stream",
          "name": "stdout",
          "text": [
            "[\"import requests\\n\\nusername = 'missusk'  # Replace with the GitHub username\\nurl = f'https://api.github.com/users/{username}/repos'\\nresponse = requests.get(url)\\n\\nif response.status_code == 200:\\n    repositories = response.json()\\n    own_repository_urls = [repo['html_url'] for repo in repositories if not repo['fork']]\\n    # Process the list of own repository URLs\\nelse:\\n    print('Error:', response.status_code)\\n\", 'print(own_repository_urls)', \"if response.status_code == 200:\\n    repositories = response.json()\\n    for repo in repositories:\\n        if not repo['fork']:\\n            repo_url = repo['html_url']\\n            contents_url = repo['contents_url'].replace('{+path}', '')\\n            contents_response = requests.get(contents_url)\\n\\n            if contents_response.status_code == 200:\\n                contents = contents_response.json()\\n                largest_code_file_size = 0\\n                largest_code_file_url = ''\\n\\n                for item in contents:\\n                    if item['type'] == 'file' and not item['name'].lower().startswith('readme') and not item['name'].lower().endswith(('.png', '.jpg', '.jpeg', '.gif', '.wav', '.mp3')):\\n                        if item['size'] > largest_code_file_size:\\n                            largest_code_file_size = item['size']\\n                            largest_code_file_url = item['html_url'] # Select the largest file in the repository\\n\\n                if largest_code_file_url:\\n                    print(largest_code_file_url)\\nelse:\\n    print('Error:', response.status_code)\\n\", '!pip install transformers', \"from transformers import GPT2LMHeadModel, GPT2Tokenizer\\n\\n# Load pre-trained GPT-2 model and tokenizer\\nmodel_name = 'gpt2'\\nmodel = GPT2LMHeadModel.from_pretrained(model_name)\\ntokenizer = GPT2Tokenizer.from_pretrained(model_name)\\n\", '']\n"
          ]
        }
      ]
    },
    {
      "cell_type": "code",
      "source": [],
      "metadata": {
        "id": "ZBXJ1uR9WpKh"
      },
      "execution_count": null,
      "outputs": []
    },
    {
      "cell_type": "code",
      "source": [
        "!pip install --upgrade transformers"
      ],
      "metadata": {
        "id": "1U_FfVZ8AYxp",
        "colab": {
          "base_uri": "https://localhost:8080/"
        },
        "outputId": "e7ee6b93-028c-481d-e719-31b7f6665dc1"
      },
      "execution_count": null,
      "outputs": [
        {
          "output_type": "stream",
          "name": "stdout",
          "text": [
            "Looking in indexes: https://pypi.org/simple, https://us-python.pkg.dev/colab-wheels/public/simple/\n",
            "Requirement already satisfied: transformers in /usr/local/lib/python3.10/dist-packages (4.30.2)\n",
            "Requirement already satisfied: filelock in /usr/local/lib/python3.10/dist-packages (from transformers) (3.12.0)\n",
            "Requirement already satisfied: huggingface-hub<1.0,>=0.14.1 in /usr/local/lib/python3.10/dist-packages (from transformers) (0.15.1)\n",
            "Requirement already satisfied: numpy>=1.17 in /usr/local/lib/python3.10/dist-packages (from transformers) (1.22.4)\n",
            "Requirement already satisfied: packaging>=20.0 in /usr/local/lib/python3.10/dist-packages (from transformers) (23.1)\n",
            "Requirement already satisfied: pyyaml>=5.1 in /usr/local/lib/python3.10/dist-packages (from transformers) (6.0)\n",
            "Requirement already satisfied: regex!=2019.12.17 in /usr/local/lib/python3.10/dist-packages (from transformers) (2022.10.31)\n",
            "Requirement already satisfied: requests in /usr/local/lib/python3.10/dist-packages (from transformers) (2.27.1)\n",
            "Requirement already satisfied: tokenizers!=0.11.3,<0.14,>=0.11.1 in /usr/local/lib/python3.10/dist-packages (from transformers) (0.13.3)\n",
            "Requirement already satisfied: safetensors>=0.3.1 in /usr/local/lib/python3.10/dist-packages (from transformers) (0.3.1)\n",
            "Requirement already satisfied: tqdm>=4.27 in /usr/local/lib/python3.10/dist-packages (from transformers) (4.65.0)\n",
            "Requirement already satisfied: fsspec in /usr/local/lib/python3.10/dist-packages (from huggingface-hub<1.0,>=0.14.1->transformers) (2023.4.0)\n",
            "Requirement already satisfied: typing-extensions>=3.7.4.3 in /usr/local/lib/python3.10/dist-packages (from huggingface-hub<1.0,>=0.14.1->transformers) (4.5.0)\n",
            "Requirement already satisfied: urllib3<1.27,>=1.21.1 in /usr/local/lib/python3.10/dist-packages (from requests->transformers) (1.26.15)\n",
            "Requirement already satisfied: certifi>=2017.4.17 in /usr/local/lib/python3.10/dist-packages (from requests->transformers) (2022.12.7)\n",
            "Requirement already satisfied: charset-normalizer~=2.0.0 in /usr/local/lib/python3.10/dist-packages (from requests->transformers) (2.0.12)\n",
            "Requirement already satisfied: idna<4,>=2.5 in /usr/local/lib/python3.10/dist-packages (from requests->transformers) (3.4)\n"
          ]
        }
      ]
    },
    {
      "cell_type": "code",
      "source": [
        "from transformers import GPT2LMHeadModel, GPT2Tokenizer\n",
        "\n",
        "# Load pre-trained GPT-2 model and tokenizer\n",
        "model_name = 'gpt2'\n",
        "model = GPT2LMHeadModel.from_pretrained(model_name)\n",
        "tokenizer = GPT2Tokenizer.from_pretrained(model_name)\n"
      ],
      "metadata": {
        "id": "tI16dY71KPdy"
      },
      "execution_count": null,
      "outputs": []
    }
  ]
}